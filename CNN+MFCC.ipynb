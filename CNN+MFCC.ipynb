{
  "nbformat": 4,
  "nbformat_minor": 0,
  "metadata": {
    "colab": {
      "provenance": []
    },
    "kernelspec": {
      "name": "python3",
      "display_name": "Python 3"
    },
    "language_info": {
      "name": "python"
    }
  },
  "cells": [
    {
      "cell_type": "code",
      "source": [
        "from google.colab import drive\n",
        "drive.mount('/content/drive')"
      ],
      "metadata": {
        "colab": {
          "base_uri": "https://localhost:8080/"
        },
        "id": "zmRKWnG-NnAk",
        "outputId": "68e2dabc-141b-4737-c129-c151fa004512"
      },
      "execution_count": 1,
      "outputs": [
        {
          "output_type": "stream",
          "name": "stdout",
          "text": [
            "Mounted at /content/drive\n"
          ]
        }
      ]
    },
    {
      "cell_type": "code",
      "source": [
        "base_dir = '/content/drive/MyDrive/audio_speech_actors_01-24'"
      ],
      "metadata": {
        "id": "9IyD-KUWNnoL"
      },
      "execution_count": 2,
      "outputs": []
    },
    {
      "cell_type": "code",
      "execution_count": 3,
      "metadata": {
        "colab": {
          "base_uri": "https://localhost:8080/"
        },
        "id": "QW1IXqgjNLpP",
        "outputId": "107cf283-1ba4-4d43-fbad-8d2d54b223a2"
      },
      "outputs": [
        {
          "output_type": "stream",
          "name": "stdout",
          "text": [
            "Epoch 1, Loss: 2.0675\n",
            "Epoch 2, Loss: 1.8035\n",
            "Epoch 3, Loss: 1.5028\n",
            "Epoch 4, Loss: 1.2695\n",
            "Epoch 5, Loss: 1.0766\n",
            "Epoch 6, Loss: 0.8975\n",
            "Epoch 7, Loss: 0.8317\n",
            "Epoch 8, Loss: 0.6280\n",
            "Epoch 9, Loss: 0.5079\n",
            "Epoch 10, Loss: 0.4164\n",
            "Validation Accuracy: 62.50%\n"
          ]
        }
      ],
      "source": [
        "##Predicting voice samples using CNN and MFCC\n",
        "import os\n",
        "import numpy as np\n",
        "import pandas as pd\n",
        "import librosa\n",
        "import torch\n",
        "from torch.utils.data import DataLoader, random_split, TensorDataset\n",
        "from sklearn.preprocessing import LabelEncoder\n",
        "from torch import nn\n",
        "import torch.nn.functional as F\n",
        "\n",
        "# 1. Load data paths and labels\n",
        "paths = []\n",
        "labels = []\n",
        "base_dir = '/content/drive/MyDrive/audio_speech_actors_01-24'\n",
        "for dirname, _, filenames in os.walk(base_dir):\n",
        "    for filename in filenames:\n",
        "        parts = filename.replace(\".wav\", \"\").split(\"-\")\n",
        "        paths.append(os.path.join(dirname, filename))\n",
        "        labels.append(int(parts[2]))\n",
        "\n",
        "# 2. Create DataFrame and encode labels\n",
        "df = pd.DataFrame({\"speech\": paths, \"labels\": labels})\n",
        "encode = LabelEncoder()\n",
        "df[\"encoded_labels\"] = encode.fit_transform(df[\"labels\"])\n",
        "\n",
        "# 3. Preprocess MFCC\n",
        "def preprocess_mfcc(file_path, n_mfcc=40, max_len=360):\n",
        "    signal, sr = librosa.load(file_path, sr=None)\n",
        "    mfcc = librosa.feature.mfcc(y=signal, sr=sr, n_mfcc=n_mfcc)\n",
        "    if mfcc.shape[1] < max_len:\n",
        "        pad_width = max_len - mfcc.shape[1]\n",
        "        mfcc = np.pad(mfcc, pad_width=((0, 0), (0, pad_width)), mode='constant')\n",
        "    else:\n",
        "        mfcc = mfcc[:, :max_len]\n",
        "    mfcc = (mfcc - np.mean(mfcc)) / np.std(mfcc)\n",
        "    return torch.tensor(mfcc, dtype=torch.float32).unsqueeze(0)\n",
        "\n",
        "# 4. Prepare dataset\n",
        "features = []\n",
        "targets = []\n",
        "for i in range(len(df)):\n",
        "    mfcc = preprocess_mfcc(df.iloc[i][\"speech\"])\n",
        "    label = torch.tensor(df.iloc[i][\"encoded_labels\"], dtype=torch.long)\n",
        "    features.append(mfcc)\n",
        "    targets.append(label)\n",
        "\n",
        "# 5. Create DataLoader\n",
        "dataset = list(zip(features, targets)) #list of tuples\n",
        "train_size = int(0.8 * len(dataset))\n",
        "val_size = int(0.1 * len(dataset))\n",
        "test_size = val_size\n",
        "train_data, val_data, test_data = random_split(dataset, [train_size, val_size, test_size])\n",
        "\n",
        "train_loader = DataLoader(train_data, batch_size=32, shuffle=True)\n",
        "val_loader = DataLoader(val_data, batch_size=32)\n",
        "test_loader = DataLoader(test_data, batch_size=32)\n",
        "\n",
        "# 6. Defining CNN model\n",
        "model = nn.Sequential(\n",
        "    nn.Conv2d(1, 16, kernel_size=3),\n",
        "    nn.ReLU(),\n",
        "    nn.MaxPool2d(2, 2),\n",
        "    nn.Conv2d(16, 32, kernel_size=3),\n",
        "    nn.ReLU(),\n",
        "    nn.MaxPool2d(2, 2),\n",
        "    nn.Flatten(),\n",
        "    nn.Linear(22528, 120),\n",
        "    nn.ReLU(),\n",
        "    nn.Linear(120, len(encode.classes_))\n",
        ")\n",
        "\n",
        "# 7. Training setup\n",
        "device = torch.device(\"cpu\")\n",
        "criterion = nn.CrossEntropyLoss()\n",
        "optimizer = torch.optim.Adam(model.parameters(), lr=0.001)\n",
        "\n",
        "# 8. Training loop\n",
        "for epoch in range(10):\n",
        "    model.train()\n",
        "    total_loss = 0\n",
        "    for inputs, labels in train_loader:\n",
        "        inputs, labels = inputs.to(device), labels.to(device)\n",
        "        optimizer.zero_grad()\n",
        "        outputs = model(inputs)\n",
        "        loss = criterion(outputs, labels)\n",
        "        loss.backward()\n",
        "        optimizer.step()\n",
        "        total_loss += loss.item()\n",
        "    print(f\"Epoch {epoch+1}, Loss: {total_loss/len(train_loader):.4f}\")\n",
        "\n",
        "# 9. Validation\n",
        "model.eval()\n",
        "correct = 0\n",
        "total = 0\n",
        "with torch.no_grad():\n",
        "    for inputs, labels in val_loader:\n",
        "        inputs, labels = inputs.to(device), labels.to(device)\n",
        "        outputs = model(inputs)\n",
        "        _, predicted = torch.max(outputs.data, 1)\n",
        "        total += labels.size(0)\n",
        "        correct += (predicted == labels).sum().item()\n",
        "\n",
        "print(f\"Validation Accuracy: {100 * correct / total:.2f}%\")"
      ]
    }
  ]
}